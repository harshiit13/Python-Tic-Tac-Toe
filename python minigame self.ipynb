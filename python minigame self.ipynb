{
 "cells": [
  {
   "cell_type": "code",
   "execution_count": 40,
   "id": "bd726526-5d60-4c4d-a80e-30aab928477a",
   "metadata": {},
   "outputs": [],
   "source": [
    "from IPython.display import clear_output\n",
    "def display_board(board):\n",
    "    clear_output()\n",
    "    print('   |   |')\n",
    "    print(' '+board[7]+' | '+board[8]+' | '+board[9])\n",
    "    print('   |   |')\n",
    "    print('------------')\n",
    "    print('   |   |')\n",
    "    print(' '+board[4]+' | '+board[5]+' | '+board[6])\n",
    "    print('   |   |')\n",
    "    print('------------')\n",
    "    print('   |   |')\n",
    "    print(' '+board[1]+' | '+board[2]+' | '+board[3])\n",
    "    print('   |   |')"
   ]
  },
  {
   "cell_type": "code",
   "execution_count": 41,
   "id": "f7da26be-6117-4bf3-bf08-d92a0da13016",
   "metadata": {},
   "outputs": [],
   "source": [
    "def marker():\n",
    "    marker=''\n",
    "    while marker!='X' and marker!='O':\n",
    "        marker=input('Choose player-1 Marker X or O')\n",
    "    if marker == 'X':\n",
    "        return ('X','O')\n",
    "    else:\n",
    "        return ('O','X')"
   ]
  },
  {
   "cell_type": "code",
   "execution_count": 55,
   "id": "6e64beaa-e2bf-4643-9459-a049febff25a",
   "metadata": {},
   "outputs": [],
   "source": [
    "def player_choice(board):\n",
    "    position=0\n",
    "    while position not in [1,2,3,4,5,6,7,8,9] or not space_check(board,position):\n",
    "        position=int(input('Choose your position in (1-9)'))\n",
    "    return position    "
   ]
  },
  {
   "cell_type": "code",
   "execution_count": 59,
   "id": "f8f5c364-bc12-44fd-b213-89627179d57f",
   "metadata": {},
   "outputs": [],
   "source": [
    "def space_check(board,position):\n",
    "    return board[position] == ' '"
   ]
  },
  {
   "cell_type": "code",
   "execution_count": 64,
   "id": "75e7e549-c0ad-4dc9-b557-aa10f76c4036",
   "metadata": {},
   "outputs": [],
   "source": [
    "def place(board,position,marker):\n",
    "    board[position]=marker"
   ]
  },
  {
   "cell_type": "code",
   "execution_count": 45,
   "id": "530258c6-ca16-4f4e-9113-3f689a02afa9",
   "metadata": {},
   "outputs": [],
   "source": [
    "def replay():\n",
    "    return input('Do you Want to play Again y or n?').lower().startswith('y')"
   ]
  },
  {
   "cell_type": "code",
   "execution_count": 74,
   "id": "233a6707-b836-452c-9c79-aafde2aa8cca",
   "metadata": {},
   "outputs": [],
   "source": [
    "def full_board_check(board):\n",
    "    for i in range(1,10):\n",
    "        if space_check(board, i):\n",
    "            return False\n",
    "    return True"
   ]
  },
  {
   "cell_type": "code",
   "execution_count": 67,
   "id": "28ce0884-8845-447a-84c2-cd840367b760",
   "metadata": {},
   "outputs": [],
   "source": [
    "def win_game(board,marker):\n",
    "    \n",
    "    return ((board[7] == marker and board[8] == marker and board[9] == marker) or # across the top\n",
    "    (board[4] == marker and board[5] == marker and board[6] == marker) or # across the middle\n",
    "    (board[1] == marker and board[2] == marker and board[3] == marker) or # across the bottom\n",
    "    (board[7] == marker and board[4] == marker and board[1] == marker) or # down the middle\n",
    "    (board[8] == marker and board[5] == marker and board[2] == marker) or # down the middle\n",
    "    (board[9] == marker and board[6] == marker and board[3] == marker) or # down the right side\n",
    "    (board[7] == marker and board[5] == marker and board[3] == marker) or # diagonal\n",
    "    (board[9] == marker and board[5] == marker and board[1] == marker)) "
   ]
  },
  {
   "cell_type": "code",
   "execution_count": 48,
   "id": "e643cc2a-4c55-4d87-a50d-bd8de8f8ecc0",
   "metadata": {},
   "outputs": [],
   "source": [
    "import random\n",
    "\n",
    "def choose_first():\n",
    "    if random.randint(0, 1) == 0:\n",
    "        return 'Player 2'\n",
    "    else:\n",
    "        return 'Player 1'"
   ]
  },
  {
   "cell_type": "code",
   "execution_count": 76,
   "id": "0a257a3f-9877-4c44-9a55-19ca985e7adf",
   "metadata": {},
   "outputs": [
    {
     "name": "stdout",
     "output_type": "stream",
     "text": [
      "   |   |\n",
      " O |   |  \n",
      "   |   |\n",
      "------------\n",
      "   |   |\n",
      " X | O | X\n",
      "   |   |\n",
      "------------\n",
      "   |   |\n",
      " O | X | O\n",
      "   |   |\n",
      "Wooww  Player - 2 win the game\n"
     ]
    },
    {
     "name": "stdin",
     "output_type": "stream",
     "text": [
      "Do you Want to play Again y or n? 8\n"
     ]
    }
   ],
   "source": [
    "print('Hello ,Welcomr to the game ')\n",
    "\n",
    "while True:\n",
    "    theboard=[' ']*10\n",
    "    Player1,Player2=marker()\n",
    "    turn = choose_first()\n",
    "    print(turn +' will go first')\n",
    "    pos=0\n",
    "    play_game=input('Are you Ready to play ? y or not')\n",
    "    \n",
    "    if play_game[0]=='y':\n",
    "        game_on = True\n",
    "    else:\n",
    "        game_on=False\n",
    "        \n",
    "    \n",
    "    while game_on:\n",
    "        \n",
    "        if turn=='Player1':\n",
    "            \n",
    "            display_board(theboard)\n",
    "            pos=player_choice(theboard)\n",
    "            place(theboard,pos,Player1)\n",
    "            \n",
    "            \n",
    "            if win_game(theboard,Player1):\n",
    "                \n",
    "                display_board(theboard)\n",
    "                print('Wooww  Player - 1 win the game')\n",
    "                game_on=False\n",
    "                \n",
    "            else:\n",
    "                \n",
    "                if full_board_check(theboard):\n",
    "                    print('Match is tieee ')\n",
    "                    break\n",
    "                \n",
    "                else:\n",
    "                    turn='Player2'\n",
    "                    \n",
    "        else:\n",
    "            \n",
    "            \n",
    "            display_board(theboard)\n",
    "            pos=player_choice(theboard)\n",
    "            place(theboard,pos,Player2)\n",
    "            \n",
    "            \n",
    "            if win_game(theboard,Player2):\n",
    "                \n",
    "                display_board(theboard)\n",
    "                print('Wooww  Player - 2 win the game')\n",
    "                game_on=False\n",
    "                \n",
    "            else:\n",
    "                \n",
    "                if full_board_check(theboard):\n",
    "                    print('Match is tieee ')\n",
    "                    break\n",
    "                \n",
    "                else:\n",
    "                    turn='Player1'\n",
    "                    \n",
    "    if not replay():\n",
    "        break\n"
   ]
  },
  {
   "cell_type": "code",
   "execution_count": null,
   "id": "ef380151-1b2b-47c8-ae30-db1eb4c89347",
   "metadata": {},
   "outputs": [],
   "source": []
  },
  {
   "cell_type": "code",
   "execution_count": null,
   "id": "d7d66764-e426-4b49-9bd3-57b75ee4a805",
   "metadata": {},
   "outputs": [],
   "source": []
  }
 ],
 "metadata": {
  "kernelspec": {
   "display_name": "Python 3 (ipykernel)",
   "language": "python",
   "name": "python3"
  },
  "language_info": {
   "codemirror_mode": {
    "name": "ipython",
    "version": 3
   },
   "file_extension": ".py",
   "mimetype": "text/x-python",
   "name": "python",
   "nbconvert_exporter": "python",
   "pygments_lexer": "ipython3",
   "version": "3.9.12"
  }
 },
 "nbformat": 4,
 "nbformat_minor": 5
}
